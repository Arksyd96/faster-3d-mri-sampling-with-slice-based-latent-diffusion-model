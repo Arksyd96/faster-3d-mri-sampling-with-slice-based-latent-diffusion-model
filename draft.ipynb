{
 "cells": [
  {
   "cell_type": "code",
   "execution_count": 1,
   "metadata": {},
   "outputs": [
    {
     "name": "stdout",
     "output_type": "stream",
     "text": [
      "Keeping EMAs of 400.\n"
     ]
    }
   ],
   "source": [
    "import torch\n",
    "from modules.ddpm import DDPM\n",
    "from modules.diffusion import Diffusion\n",
    "from modules.sampler import ScheduleSampler\n",
    "from omegaconf import OmegaConf\n",
    "\n",
    "cfg = OmegaConf.load('./config.yaml')\n",
    "\n",
    "diffusion = Diffusion(**cfg.diffusion)\n",
    "sampler = ScheduleSampler(\n",
    "    T=cfg.diffusion.T,\n",
    "    batch_size=cfg.data.diffusion.batch_size,\n",
    "    sampler=cfg.diffusion.schedule_sampler,\n",
    "    memory_span=cfg.diffusion.loss_memory_span\n",
    ")\n",
    "\n",
    "ddpm = DDPM(\n",
    "    unet_config = cfg.unet,\n",
    "    diffusion   = diffusion,\n",
    "    sampler     = sampler,\n",
    "    use_ema     = True,\n",
    "    clamp       = True  \n",
    ").to('cuda')"
   ]
  },
  {
   "cell_type": "code",
   "execution_count": 2,
   "metadata": {},
   "outputs": [
    {
     "name": "stderr",
     "output_type": "stream",
     "text": [
      "Sampling: 100%|██████████| 1000/1000 [00:56<00:00, 17.74it/s]\n"
     ]
    },
    {
     "data": {
      "text/plain": [
       "torch.Size([1, 4, 256, 256])"
      ]
     },
     "execution_count": 2,
     "metadata": {},
     "output_type": "execute_result"
    }
   ],
   "source": [
    "ddpm.sample_img(n_samples=1).shape"
   ]
  },
  {
   "cell_type": "code",
   "execution_count": 2,
   "metadata": {},
   "outputs": [],
   "source": [
    "device = torch.device('cuda' if torch.cuda.is_available() else 'cpu')\n",
    "ae = ae.to(device)\n",
    "\n",
    "x = torch.randn(4, 2, 64, 64).to(device, dtype=torch.float32)\n",
    "t = torch.randint(0, 64, (4,)).to(device, dtype=torch.long)\n",
    "\n",
    "o = ae(x, t)"
   ]
  },
  {
   "cell_type": "code",
   "execution_count": 35,
   "metadata": {},
   "outputs": [
    {
     "name": "stdout",
     "output_type": "stream",
     "text": [
      "False\n"
     ]
    }
   ],
   "source": [
    "import torch\n",
    "\n",
    "# Create a tensor of shape (2, 3, 4)\n",
    "x = torch.randn(2, 3, 4)\n",
    "\n",
    "# Reshape the tensor to shape (2, 4, 3)\n",
    "y = x.reshape(2, 4, 3)\n",
    "\n",
    "# View and permute the tensor to shape (2, 4, 3)\n",
    "z = x.view(2, 3, 4).permute(0, 2, 1)\n",
    "\n",
    "# Check if y and z are equal\n",
    "print(torch.allclose(y, z))"
   ]
  },
  {
   "cell_type": "code",
   "execution_count": 30,
   "metadata": {},
   "outputs": [],
   "source": [
    "mean = z.mean()\n",
    "var = z.var()\n",
    "\n",
    "log_likelihood = (-4 / 2) * torch.log(2 * torch.tensor(np.pi)) - 0.5 * z.sum() ** 2"
   ]
  },
  {
   "cell_type": "code",
   "execution_count": 31,
   "metadata": {},
   "outputs": [
    {
     "data": {
      "text/plain": [
       "tensor(-7.0451)"
      ]
     },
     "execution_count": 31,
     "metadata": {},
     "output_type": "execute_result"
    }
   ],
   "source": [
    "log_likelihood"
   ]
  },
  {
   "cell_type": "code",
   "execution_count": null,
   "metadata": {},
   "outputs": [],
   "source": []
  }
 ],
 "metadata": {
  "kernelspec": {
   "display_name": "work",
   "language": "python",
   "name": "python3"
  },
  "language_info": {
   "codemirror_mode": {
    "name": "ipython",
    "version": 3
   },
   "file_extension": ".py",
   "mimetype": "text/x-python",
   "name": "python",
   "nbconvert_exporter": "python",
   "pygments_lexer": "ipython3",
   "version": "3.8.13"
  },
  "orig_nbformat": 4
 },
 "nbformat": 4,
 "nbformat_minor": 2
}
